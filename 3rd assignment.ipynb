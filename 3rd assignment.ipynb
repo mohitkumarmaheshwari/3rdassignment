{
 "cells": [
  {
   "cell_type": "code",
   "execution_count": 1,
   "id": "caccf159-1843-4f62-bd91-e1b847f2da27",
   "metadata": {},
   "outputs": [],
   "source": [
    "# basic level"
   ]
  },
  {
   "cell_type": "markdown",
   "id": "4f4a24ef-e880-4c7e-9ddc-b9ccee730982",
   "metadata": {},
   "source": [
    "q.1"
   ]
  },
  {
   "cell_type": "code",
   "execution_count": 2,
   "id": "bb639ccd-8b04-4a85-ba4a-4daa699de1c5",
   "metadata": {},
   "outputs": [
    {
     "name": "stdout",
     "output_type": "stream",
     "text": [
      "1\n",
      "2\n",
      "3\n",
      "4\n",
      "5\n",
      "6\n",
      "7\n",
      "8\n",
      "9\n",
      "10\n"
     ]
    }
   ],
   "source": [
    "# you can use a for loop to print number 1 to 10 in python like this\n",
    "for number in range(1, 11):\n",
    "    print(number)\n",
    "\n"
   ]
  },
  {
   "cell_type": "markdown",
   "id": "61687dbc-9b85-4dbe-882b-71da3061d860",
   "metadata": {},
   "source": [
    "q.2"
   ]
  },
  {
   "cell_type": "code",
   "execution_count": 3,
   "id": "b24b0e92-e589-4443-baf3-4981501cb9a2",
   "metadata": {},
   "outputs": [],
   "source": [
    "# you can calculate the sum of all number in a list using a 'for' loop in python like this:"
   ]
  },
  {
   "cell_type": "code",
   "execution_count": 4,
   "id": "bfe5fae2-fa69-40ac-8273-a7910b4453d7",
   "metadata": {},
   "outputs": [
    {
     "name": "stdout",
     "output_type": "stream",
     "text": [
      "The sum of all numbers in the list is: 150\n"
     ]
    }
   ],
   "source": [
    "# Define a list of numbers\n",
    "numbers = [10, 20, 30, 40, 50]\n",
    "\n",
    "# Initialize a variable to store the sum\n",
    "total = 0\n",
    "\n",
    "# Use a for loop to iterate through the list and calculate the sum\n",
    "for number in numbers:\n",
    "    total += number\n",
    "\n",
    "# Print the sum\n",
    "print(\"The sum of all numbers in the list is:\", total)\n"
   ]
  },
  {
   "cell_type": "markdown",
   "id": "74b92bcb-d089-40a0-b5d7-1c0c7be9e4ab",
   "metadata": {},
   "source": [
    "q.3"
   ]
  },
  {
   "cell_type": "code",
   "execution_count": 6,
   "id": "2f188c51-c2aa-49df-94c7-921218c5a7c3",
   "metadata": {},
   "outputs": [],
   "source": [
    "#You can print the characters of a string in reverse order using a for loop in Python like this:"
   ]
  },
  {
   "cell_type": "code",
   "execution_count": 7,
   "id": "06cd00c5-7cd0-468a-a42e-922f3eec0df3",
   "metadata": {},
   "outputs": [
    {
     "name": "stdout",
     "output_type": "stream",
     "text": [
      "Reversed string: !dlroW ,olleH\n"
     ]
    }
   ],
   "source": [
    "# Input string\n",
    "input_string = \"Hello, World!\"\n",
    "\n",
    "# Initialize an empty string to store the reversed characters\n",
    "reversed_string = \"\"\n",
    "\n",
    "# Use a for loop to iterate through the string in reverse order\n",
    "for character in reversed(input_string):\n",
    "    reversed_string += character\n",
    "\n",
    "# Print the reversed string\n",
    "print(\"Reversed string:\", reversed_string)\n",
    "\n"
   ]
  },
  {
   "cell_type": "markdown",
   "id": "fa128683-72b6-4ee5-80d3-9b008b135eaa",
   "metadata": {},
   "source": [
    "q.4"
   ]
  },
  {
   "cell_type": "code",
   "execution_count": 8,
   "id": "bba0eb9a-c5e4-4ab2-86bd-fb65600d80a5",
   "metadata": {},
   "outputs": [],
   "source": [
    "#You can calculate the factorial of a given number using a for loop in Python like this:"
   ]
  },
  {
   "cell_type": "code",
   "execution_count": 9,
   "id": "423175ee-b8a8-46a9-bf27-6b30fc848e49",
   "metadata": {},
   "outputs": [
    {
     "name": "stdin",
     "output_type": "stream",
     "text": [
      "Enter a number:  1\n"
     ]
    },
    {
     "name": "stdout",
     "output_type": "stream",
     "text": [
      "The factorial of 1 is 1\n"
     ]
    }
   ],
   "source": [
    "# Input number\n",
    "number = int(input(\"Enter a number: \"))\n",
    "\n",
    "# Initialize a variable to store the factorial\n",
    "factorial = 1\n",
    "\n",
    "# Use a for loop to calculate the factorial\n",
    "for i in range(1, number + 1):\n",
    "    factorial *= i\n",
    "\n",
    "# Print the factorial\n",
    "print(\"The factorial of\", number, \"is\", factorial)\n"
   ]
  },
  {
   "cell_type": "markdown",
   "id": "c78c2c8a-6c20-4a05-a012-d6b9bfc8c108",
   "metadata": {},
   "source": [
    "q.5"
   ]
  },
  {
   "cell_type": "code",
   "execution_count": 10,
   "id": "97440849-3dad-48de-8147-724a1b8518c5",
   "metadata": {},
   "outputs": [],
   "source": [
    "#You can create a program to print the multiplication table of a given number using a for loop in Python like this:"
   ]
  },
  {
   "cell_type": "code",
   "execution_count": 11,
   "id": "cdc38aff-5b61-4aff-adee-bd464b01fa60",
   "metadata": {},
   "outputs": [
    {
     "name": "stdin",
     "output_type": "stream",
     "text": [
      "Enter a number:  1\n"
     ]
    },
    {
     "name": "stdout",
     "output_type": "stream",
     "text": [
      "Multiplication table for 1:\n",
      "1 x 1 = 1\n",
      "1 x 2 = 2\n",
      "1 x 3 = 3\n",
      "1 x 4 = 4\n",
      "1 x 5 = 5\n",
      "1 x 6 = 6\n",
      "1 x 7 = 7\n",
      "1 x 8 = 8\n",
      "1 x 9 = 9\n",
      "1 x 10 = 10\n"
     ]
    }
   ],
   "source": [
    "# Input number for which you want to print the multiplication table\n",
    "number = int(input(\"Enter a number: \"))\n",
    "\n",
    "# Define the range for the multiplication table (e.g., from 1 to 10)\n",
    "start = 1\n",
    "end = 10\n",
    "\n",
    "# Use a for loop to print the multiplication table\n",
    "print(f\"Multiplication table for {number}:\")\n",
    "\n",
    "for i in range(start, end + 1):\n",
    "    product = number * i\n",
    "    print(f\"{number} x {i} = {product}\")\n"
   ]
  },
  {
   "cell_type": "markdown",
   "id": "48b24ee8-2cb9-4e39-80e6-7c852040cba4",
   "metadata": {},
   "source": [
    "q.6"
   ]
  },
  {
   "cell_type": "code",
   "execution_count": 12,
   "id": "93ab3672-8d7e-4c9f-b319-4337a4714d6e",
   "metadata": {},
   "outputs": [],
   "source": [
    "#You can write a Python program to count the number of even and odd numbers in a list using a for loop like this:"
   ]
  },
  {
   "cell_type": "code",
   "execution_count": 13,
   "id": "85041a81-3121-4d70-b7b7-99342af5bd7f",
   "metadata": {},
   "outputs": [
    {
     "name": "stdout",
     "output_type": "stream",
     "text": [
      "Number of even numbers: 5\n",
      "Number of odd numbers: 5\n"
     ]
    }
   ],
   "source": [
    "# Define a list of numbers\n",
    "numbers = [1, 2, 3, 4, 5, 6, 7, 8, 9, 10]\n",
    "\n",
    "# Initialize variables to count even and odd numbers\n",
    "even_count = 0\n",
    "odd_count = 0\n",
    "\n",
    "# Use a for loop to iterate through the list and count even and odd numbers\n",
    "for number in numbers:\n",
    "    if number % 2 == 0:\n",
    "        even_count += 1\n",
    "    else:\n",
    "        odd_count += 1\n",
    "\n",
    "# Print the counts\n",
    "print(\"Number of even numbers:\", even_count)\n",
    "print(\"Number of odd numbers:\", odd_count)\n"
   ]
  },
  {
   "cell_type": "markdown",
   "id": "e6cdb6fb-b840-4906-b470-53dcf8b0e8f0",
   "metadata": {},
   "source": [
    "q.7"
   ]
  },
  {
   "cell_type": "code",
   "execution_count": 14,
   "id": "8a063597-23c3-4df7-a839-f9b63963fedf",
   "metadata": {},
   "outputs": [],
   "source": [
    "#You can create a program to print the squares of numbers from 1 to 5 using a for loop in Python like this:"
   ]
  },
  {
   "cell_type": "code",
   "execution_count": 15,
   "id": "702c778b-7d7f-41fa-b2ae-da8181294acb",
   "metadata": {},
   "outputs": [
    {
     "name": "stdout",
     "output_type": "stream",
     "text": [
      "The square of 1 is 1\n",
      "The square of 2 is 4\n",
      "The square of 3 is 9\n",
      "The square of 4 is 16\n",
      "The square of 5 is 25\n"
     ]
    }
   ],
   "source": [
    "# Use a for loop to print the squares of numbers from 1 to 5\n",
    "for number in range(1, 6):\n",
    "    square = number ** 2\n",
    "    print(f\"The square of {number} is {square}\")\n"
   ]
  },
  {
   "cell_type": "markdown",
   "id": "86ec4c18-b065-4e00-a034-513edb203937",
   "metadata": {},
   "source": [
    "q.8"
   ]
  },
  {
   "cell_type": "code",
   "execution_count": 16,
   "id": "043f2e54-30ca-4f67-ac9b-e0d3bef8490c",
   "metadata": {},
   "outputs": [],
   "source": [
    "#You can find the length of a string without using the len() function by iterating through the characters of the string in a loop and counting them until you reach the end of the string. Here's a Python program to do that:"
   ]
  },
  {
   "cell_type": "code",
   "execution_count": 17,
   "id": "cd288bac-af2f-44f8-a108-d371b6197225",
   "metadata": {},
   "outputs": [
    {
     "name": "stdin",
     "output_type": "stream",
     "text": [
      "Enter a string:  mohit\n"
     ]
    },
    {
     "name": "stdout",
     "output_type": "stream",
     "text": [
      "The length of the string is: 5\n"
     ]
    }
   ],
   "source": [
    "# Input string\n",
    "input_string = input(\"Enter a string: \")\n",
    "\n",
    "# Initialize a variable to count the characters\n",
    "length = 0\n",
    "\n",
    "# Use a for loop to count the characters in the string\n",
    "for _ in input_string:\n",
    "    length += 1\n",
    "\n",
    "# Print the length of the string\n",
    "print(\"The length of the string is:\", length)\n"
   ]
  },
  {
   "cell_type": "markdown",
   "id": "939da410-09cd-4da8-a52b-ce853986d0a6",
   "metadata": {},
   "source": [
    "q.9"
   ]
  },
  {
   "cell_type": "code",
   "execution_count": 18,
   "id": "9f5b7d3f-ede9-478d-ac6f-b0260c25eea9",
   "metadata": {},
   "outputs": [],
   "source": [
    "#You can calculate the average of a list of numbers using a for loop in Python like this:"
   ]
  },
  {
   "cell_type": "code",
   "execution_count": 19,
   "id": "ff145166-0325-45f0-aa61-a3622b424c32",
   "metadata": {},
   "outputs": [
    {
     "name": "stdout",
     "output_type": "stream",
     "text": [
      "The average of the numbers is: 30.0\n"
     ]
    }
   ],
   "source": [
    "# Define a list of numbers\n",
    "numbers = [10, 20, 30, 40, 50]\n",
    "\n",
    "# Initialize variables to store the sum and count of numbers\n",
    "total = 0\n",
    "count = 0\n",
    "\n",
    "# Use a for loop to calculate the sum of numbers and count them\n",
    "for number in numbers:\n",
    "    total += number\n",
    "    count += 1\n",
    "\n",
    "# Calculate the average\n",
    "average = total / count\n",
    "\n",
    "# Print the average\n",
    "print(\"The average of the numbers is:\", average)\n"
   ]
  },
  {
   "cell_type": "markdown",
   "id": "ca7a6c7c-633a-4389-ab92-6b6565142104",
   "metadata": {},
   "source": [
    "q.10"
   ]
  },
  {
   "cell_type": "code",
   "execution_count": 20,
   "id": "47f5be35-d1ce-4306-be07-eb349a394eb0",
   "metadata": {},
   "outputs": [],
   "source": [
    "#You can create a program to print the first n Fibonacci numbers using a for loop in Python like this:"
   ]
  },
  {
   "cell_type": "code",
   "execution_count": 21,
   "id": "4c1c7b65-1d84-4f7b-9bb8-4079d7eb7bbf",
   "metadata": {},
   "outputs": [
    {
     "name": "stdin",
     "output_type": "stream",
     "text": [
      "Enter the number of Fibonacci numbers to generate:  5\n"
     ]
    },
    {
     "name": "stdout",
     "output_type": "stream",
     "text": [
      "Fibonacci sequence:\n",
      "0\n",
      "1\n",
      "1\n",
      "2\n",
      "3\n"
     ]
    }
   ],
   "source": [
    "# Input the number of Fibonacci numbers to generate\n",
    "n = int(input(\"Enter the number of Fibonacci numbers to generate: \"))\n",
    "\n",
    "# Initialize variables for the first two Fibonacci numbers\n",
    "fibonacci_a = 0\n",
    "fibonacci_b = 1\n",
    "\n",
    "# Print the first two Fibonacci numbers\n",
    "print(\"Fibonacci sequence:\")\n",
    "print(fibonacci_a)\n",
    "print(fibonacci_b)\n",
    "\n",
    "# Use a for loop to generate and print the next Fibonacci numbers\n",
    "for _ in range(2, n):\n",
    "    fibonacci_next = fibonacci_a + fibonacci_b\n",
    "    print(fibonacci_next)\n",
    "    \n",
    "    # Update variables for the next iteration\n",
    "    fibonacci_a = fibonacci_b\n",
    "    fibonacci_b = fibonacci_next\n"
   ]
  },
  {
   "cell_type": "code",
   "execution_count": 22,
   "id": "38dc6ccc-7fae-48ed-a898-859f34fa5c4e",
   "metadata": {},
   "outputs": [],
   "source": [
    "# intermediate level"
   ]
  },
  {
   "cell_type": "markdown",
   "id": "8bdc5a14-5681-4a43-b125-71c0a720fe62",
   "metadata": {},
   "source": [
    "# \n",
    "q.11"
   ]
  },
  {
   "cell_type": "code",
   "execution_count": 23,
   "id": "c320e23a-49b4-400d-8996-77060d6ea68b",
   "metadata": {},
   "outputs": [],
   "source": [
    "#You can create a Python program to check if a given list contains any duplicates using a for loop by comparing each element in the list to all subsequent elements. Here's how you can do it:"
   ]
  },
  {
   "cell_type": "code",
   "execution_count": 24,
   "id": "3d93f6ad-9d2b-468d-879d-de27774f1d1e",
   "metadata": {},
   "outputs": [
    {
     "name": "stdout",
     "output_type": "stream",
     "text": [
      "The list does not contain duplicates.\n"
     ]
    }
   ],
   "source": [
    "# Function to check for duplicates in a list\n",
    "def has_duplicates(input_list):\n",
    "    length = len(input_list)\n",
    "    \n",
    "    # Use nested loops to compare each pair of elements\n",
    "    for i in range(length):\n",
    "        for j in range(i + 1, length):\n",
    "            if input_list[i] == input_list[j]:\n",
    "                return True  # Found a duplicate\n",
    "    \n",
    "    return False  # No duplicates found\n",
    "\n",
    "# Input list\n",
    "my_list = [1, 2, 3, 4, 5, 6, 7, 8, 9, 10]\n",
    "\n",
    "# Check for duplicates\n",
    "if has_duplicates(my_list):\n",
    "    print(\"The list contains duplicates.\")\n",
    "else:\n",
    "    print(\"The list does not contain duplicates.\")\n"
   ]
  },
  {
   "cell_type": "markdown",
   "id": "9d2c237a-ecee-4d10-8ffa-1e21df26f095",
   "metadata": {},
   "source": [
    "q.12"
   ]
  },
  {
   "cell_type": "code",
   "execution_count": 25,
   "id": "281846a5-e8f1-41b9-a568-24224541dcee",
   "metadata": {},
   "outputs": [],
   "source": [
    "#You can create a Python program to print the prime numbers in a given range using a for loop like this:"
   ]
  },
  {
   "cell_type": "code",
   "execution_count": 26,
   "id": "fcc82ddb-d563-4a43-b458-5b374428f963",
   "metadata": {},
   "outputs": [
    {
     "name": "stdin",
     "output_type": "stream",
     "text": [
      "Enter the starting number:  2\n",
      "Enter the ending number:  3\n"
     ]
    },
    {
     "name": "stdout",
     "output_type": "stream",
     "text": [
      "Prime numbers in the range 2 to 3 are:\n",
      "2\n",
      "3\n"
     ]
    }
   ],
   "source": [
    "# Function to check if a number is prime\n",
    "def is_prime(num):\n",
    "    if num <= 1:\n",
    "        return False\n",
    "    elif num <= 3:\n",
    "        return True\n",
    "    elif num % 2 == 0 or num % 3 == 0:\n",
    "        return False\n",
    "    i = 5\n",
    "    while i * i <= num:\n",
    "        if num % i == 0 or num % (i + 2) == 0:\n",
    "            return False\n",
    "        i += 6\n",
    "    return True\n",
    "\n",
    "# Input range\n",
    "start = int(input(\"Enter the starting number: \"))\n",
    "end = int(input(\"Enter the ending number: \"))\n",
    "\n",
    "# Print prime numbers in the given range\n",
    "print(\"Prime numbers in the range\", start, \"to\", end, \"are:\")\n",
    "\n",
    "for num in range(start, end + 1):\n",
    "    if is_prime(num):\n",
    "        print(num)\n"
   ]
  },
  {
   "cell_type": "markdown",
   "id": "9fc9cbd3-8827-4650-be38-7cb71cdc1a39",
   "metadata": {},
   "source": [
    "q.13"
   ]
  },
  {
   "cell_type": "code",
   "execution_count": 27,
   "id": "45e69803-5069-45f1-bdb8-3c878721adc6",
   "metadata": {},
   "outputs": [],
   "source": [
    "#You can create a Python program to count the number of vowels in a string using a for loop like this:"
   ]
  },
  {
   "cell_type": "code",
   "execution_count": 28,
   "id": "8e88c1d4-5a7d-49f3-8760-215b5b81fa68",
   "metadata": {},
   "outputs": [
    {
     "name": "stdin",
     "output_type": "stream",
     "text": [
      "Enter a string:  mohit\n"
     ]
    },
    {
     "name": "stdout",
     "output_type": "stream",
     "text": [
      "The number of vowels in the string is: 2\n"
     ]
    }
   ],
   "source": [
    "# Function to check if a character is a vowel\n",
    "def is_vowel(char):\n",
    "    vowels = \"AEIOUaeiou\"\n",
    "    return char in vowels\n",
    "\n",
    "# Input string\n",
    "input_string = input(\"Enter a string: \")\n",
    "\n",
    "# Initialize a variable to count the vowels\n",
    "vowel_count = 0\n",
    "\n",
    "# Use a for loop to count the vowels in the string\n",
    "for char in input_string:\n",
    "    if is_vowel(char):\n",
    "        vowel_count += 1\n",
    "\n",
    "# Print the count of vowels\n",
    "print(\"The number of vowels in the string is:\", vowel_count)\n"
   ]
  },
  {
   "cell_type": "markdown",
   "id": "73583b5d-67e7-456a-aa11-7e573ec0b76a",
   "metadata": {},
   "source": [
    "q.14"
   ]
  },
  {
   "cell_type": "code",
   "execution_count": 29,
   "id": "850c3a60-3f3b-4d26-8f9a-7b2970ee7621",
   "metadata": {},
   "outputs": [],
   "source": [
    "#You can create a Python program to find the maximum element in a 2D list using nested for loops like this:"
   ]
  },
  {
   "cell_type": "code",
   "execution_count": 30,
   "id": "619796f7-96cc-49cf-a170-fa0b6c49c01e",
   "metadata": {},
   "outputs": [
    {
     "name": "stdout",
     "output_type": "stream",
     "text": [
      "The maximum element in the 2D list is: 15\n"
     ]
    }
   ],
   "source": [
    "# Input 2D list\n",
    "matrix = [\n",
    "    [10, 5, 9],\n",
    "    [7, 15, 3],\n",
    "    [12, 8, 6]\n",
    "]\n",
    "\n",
    "# Initialize a variable to store the maximum element\n",
    "max_element = matrix[0][0]\n",
    "\n",
    "# Use nested for loops to find the maximum element\n",
    "for row in matrix:\n",
    "    for element in row:\n",
    "        if element > max_element:\n",
    "            max_element = element\n",
    "\n",
    "# Print the maximum element\n",
    "print(\"The maximum element in the 2D list is:\", max_element)\n"
   ]
  },
  {
   "cell_type": "markdown",
   "id": "555eca31-3d0d-4cfd-8cf4-bf714e8e1ed1",
   "metadata": {},
   "source": [
    "q.15"
   ]
  },
  {
   "cell_type": "code",
   "execution_count": 31,
   "id": "e9876504-a3b7-4256-a6a4-5e060d060647",
   "metadata": {},
   "outputs": [],
   "source": [
    "#You can create a Python program to remove all occurrences of a specific element from a list using a for loop like this:"
   ]
  },
  {
   "cell_type": "code",
   "execution_count": 32,
   "id": "51636fed-4cd7-4342-bf56-678323cb35db",
   "metadata": {},
   "outputs": [
    {
     "name": "stdin",
     "output_type": "stream",
     "text": [
      "Enter the element to remove:  1\n"
     ]
    },
    {
     "name": "stdout",
     "output_type": "stream",
     "text": [
      "Updated list after removing all occurrences of 1 : [2, 3, 4, 3, 5, 6, 3, 7, 8, 9]\n"
     ]
    }
   ],
   "source": [
    "# Function to remove all occurrences of an element from a list\n",
    "def remove_element(input_list, element_to_remove):\n",
    "    updated_list = []\n",
    "    for element in input_list:\n",
    "        if element != element_to_remove:\n",
    "            updated_list.append(element)\n",
    "    return updated_list\n",
    "\n",
    "# Input list\n",
    "my_list = [1, 2, 3, 4, 3, 5, 6, 3, 7, 8, 9]\n",
    "\n",
    "# Input element to remove\n",
    "element_to_remove = int(input(\"Enter the element to remove: \"))\n",
    "\n",
    "# Remove all occurrences of the element\n",
    "my_list = remove_element(my_list, element_to_remove)\n",
    "\n",
    "# Print the updated list\n",
    "print(\"Updated list after removing all occurrences of\", element_to_remove, \":\", my_list)\n"
   ]
  },
  {
   "cell_type": "markdown",
   "id": "57923ddc-1ab2-4328-a2f7-84778c6ff5eb",
   "metadata": {},
   "source": [
    "q.16"
   ]
  },
  {
   "cell_type": "code",
   "execution_count": 33,
   "id": "5eb4a20c-84db-4f4f-9d6d-b91d3f1359f3",
   "metadata": {},
   "outputs": [],
   "source": [
    "#You can create a Python program to generate a multiplication table for numbers from 1 to 5 using nested for loops like this:"
   ]
  },
  {
   "cell_type": "code",
   "execution_count": 34,
   "id": "9b8f9746-c27f-43c1-9c3e-087fffb2529b",
   "metadata": {},
   "outputs": [
    {
     "name": "stdout",
     "output_type": "stream",
     "text": [
      "Multiplication table for 1:\n",
      "1 x 1 = 1\n",
      "1 x 2 = 2\n",
      "1 x 3 = 3\n",
      "1 x 4 = 4\n",
      "1 x 5 = 5\n",
      "1 x 6 = 6\n",
      "1 x 7 = 7\n",
      "1 x 8 = 8\n",
      "1 x 9 = 9\n",
      "1 x 10 = 10\n",
      "\n",
      "Multiplication table for 2:\n",
      "2 x 1 = 2\n",
      "2 x 2 = 4\n",
      "2 x 3 = 6\n",
      "2 x 4 = 8\n",
      "2 x 5 = 10\n",
      "2 x 6 = 12\n",
      "2 x 7 = 14\n",
      "2 x 8 = 16\n",
      "2 x 9 = 18\n",
      "2 x 10 = 20\n",
      "\n",
      "Multiplication table for 3:\n",
      "3 x 1 = 3\n",
      "3 x 2 = 6\n",
      "3 x 3 = 9\n",
      "3 x 4 = 12\n",
      "3 x 5 = 15\n",
      "3 x 6 = 18\n",
      "3 x 7 = 21\n",
      "3 x 8 = 24\n",
      "3 x 9 = 27\n",
      "3 x 10 = 30\n",
      "\n",
      "Multiplication table for 4:\n",
      "4 x 1 = 4\n",
      "4 x 2 = 8\n",
      "4 x 3 = 12\n",
      "4 x 4 = 16\n",
      "4 x 5 = 20\n",
      "4 x 6 = 24\n",
      "4 x 7 = 28\n",
      "4 x 8 = 32\n",
      "4 x 9 = 36\n",
      "4 x 10 = 40\n",
      "\n",
      "Multiplication table for 5:\n",
      "5 x 1 = 5\n",
      "5 x 2 = 10\n",
      "5 x 3 = 15\n",
      "5 x 4 = 20\n",
      "5 x 5 = 25\n",
      "5 x 6 = 30\n",
      "5 x 7 = 35\n",
      "5 x 8 = 40\n",
      "5 x 9 = 45\n",
      "5 x 10 = 50\n",
      "\n"
     ]
    }
   ],
   "source": [
    "# Define the range of numbers for the multiplication table\n",
    "start = 1\n",
    "end = 5\n",
    "\n",
    "# Use nested for loops to generate and print the multiplication table\n",
    "for i in range(start, end + 1):\n",
    "    print(f\"Multiplication table for {i}:\")\n",
    "\n",
    "    for j in range(1, 11):\n",
    "        product = i * j\n",
    "        print(f\"{i} x {j} = {product}\")\n",
    "\n",
    "    print()  # Add an empty line between tables for clarity\n"
   ]
  },
  {
   "cell_type": "markdown",
   "id": "895c5ae8-da37-45d0-8aff-d2c657f755cf",
   "metadata": {},
   "source": [
    "q.17"
   ]
  },
  {
   "cell_type": "code",
   "execution_count": 35,
   "id": "3bec8805-3475-4eef-b99a-f67fe03dfa4e",
   "metadata": {},
   "outputs": [],
   "source": [
    "#You can create a Python program to convert a list of Fahrenheit temperatures to Celsius using a for loop like this:"
   ]
  },
  {
   "cell_type": "code",
   "execution_count": 36,
   "id": "751636d9-9c0c-45e1-ada3-559996505ca1",
   "metadata": {},
   "outputs": [
    {
     "name": "stdout",
     "output_type": "stream",
     "text": [
      "Fahrenheit Temperatures: [32, 68, 86, 104, 212]\n",
      "Celsius Temperatures: [0.0, 20.0, 30.0, 40.0, 100.0]\n"
     ]
    }
   ],
   "source": [
    "# Function to convert Fahrenheit to Celsius\n",
    "def fahrenheit_to_celsius(fahrenheit):\n",
    "    return (fahrenheit - 32) * 5/9\n",
    "\n",
    "# Input list of Fahrenheit temperatures\n",
    "fahrenheit_temperatures = [32, 68, 86, 104, 212]\n",
    "\n",
    "# Initialize an empty list to store Celsius temperatures\n",
    "celsius_temperatures = []\n",
    "\n",
    "# Use a for loop to convert and append temperatures\n",
    "for fahrenheit in fahrenheit_temperatures:\n",
    "    celsius = fahrenheit_to_celsius(fahrenheit)\n",
    "    celsius_temperatures.append(celsius)\n",
    "\n",
    "# Print the converted temperatures\n",
    "print(\"Fahrenheit Temperatures:\", fahrenheit_temperatures)\n",
    "print(\"Celsius Temperatures:\", celsius_temperatures)\n"
   ]
  },
  {
   "cell_type": "markdown",
   "id": "1b859854-d047-4c79-bc9b-bfd142da31d0",
   "metadata": {},
   "source": [
    "q.18"
   ]
  },
  {
   "cell_type": "code",
   "execution_count": 37,
   "id": "08b1fe85-b5ac-418d-ae26-6ae99b95e20e",
   "metadata": {},
   "outputs": [],
   "source": [
    "#You can create a Python program to print the common elements from two lists using a for loop like this:"
   ]
  },
  {
   "cell_type": "code",
   "execution_count": 38,
   "id": "95baea9a-a7a0-4e3e-aca5-ca5b0abac161",
   "metadata": {},
   "outputs": [
    {
     "name": "stdout",
     "output_type": "stream",
     "text": [
      "Common elements between list1 and list2: [3, 4, 5]\n"
     ]
    }
   ],
   "source": [
    "# Define two lists\n",
    "list1 = [1, 2, 3, 4, 5]\n",
    "list2 = [3, 4, 5, 6, 7]\n",
    "\n",
    "# Initialize a list to store common elements\n",
    "common_elements = []\n",
    "\n",
    "# Use a for loop to find and append common elements\n",
    "for element1 in list1:\n",
    "    for element2 in list2:\n",
    "        if element1 == element2:\n",
    "            common_elements.append(element1)\n",
    "\n",
    "# Print the common elements\n",
    "print(\"Common elements between list1 and list2:\", common_elements)\n"
   ]
  },
  {
   "cell_type": "markdown",
   "id": "d824bcc7-7aa4-483c-bc13-09d3e2d37940",
   "metadata": {},
   "source": [
    "q.19"
   ]
  },
  {
   "cell_type": "code",
   "execution_count": 40,
   "id": "e717bc05-6bef-43bb-9e2e-3ee20ff1cdcf",
   "metadata": {},
   "outputs": [],
   "source": [
    "#You can create a Python program to print a pattern of right-angled triangles using * characters using nested for loops like th\n"
   ]
  },
  {
   "cell_type": "code",
   "execution_count": 41,
   "id": "9f9353d0-e467-4c3e-bfc4-707446ca4dc1",
   "metadata": {},
   "outputs": [
    {
     "name": "stdin",
     "output_type": "stream",
     "text": [
      "Enter the number of rows for the pattern:  1\n"
     ]
    },
    {
     "name": "stdout",
     "output_type": "stream",
     "text": [
      "* \n"
     ]
    }
   ],
   "source": [
    "# Input the number of rows for the pattern\n",
    "n = int(input(\"Enter the number of rows for the pattern: \"))\n",
    "\n",
    "# Use a for loop to print the pattern\n",
    "for i in range(1, n + 1):\n",
    "    for j in range(i):\n",
    "        print(\"*\", end=\" \")\n",
    "    print()\n"
   ]
  },
  {
   "cell_type": "markdown",
   "id": "facf6051-9a78-4503-b8f1-cd93e2b28ff3",
   "metadata": {},
   "source": [
    "q.20"
   ]
  },
  {
   "cell_type": "code",
   "execution_count": 42,
   "id": "c739790d-b6af-4b8e-92c5-6f9356956a1b",
   "metadata": {},
   "outputs": [],
   "source": [
    "#You can create a Python program to find the greatest common divisor (GCD) of two numbers using a for loop and the Euclidean algorithm. Here's how you can do it:"
   ]
  },
  {
   "cell_type": "code",
   "execution_count": 43,
   "id": "b3ac69a0-5800-47db-ae50-989f008eff4b",
   "metadata": {},
   "outputs": [
    {
     "name": "stdin",
     "output_type": "stream",
     "text": [
      "Enter the first number:  10\n",
      "Enter the second number:  20\n"
     ]
    },
    {
     "name": "stdout",
     "output_type": "stream",
     "text": [
      "The Greatest Common Divisor (GCD) of 10 and 20 is: 10\n"
     ]
    }
   ],
   "source": [
    "# Function to calculate the GCD using the Euclidean algorithm\n",
    "def gcd(a, b):\n",
    "    while b:\n",
    "        a, b = b, a % b\n",
    "    return a\n",
    "\n",
    "# Input two numbers\n",
    "num1 = int(input(\"Enter the first number: \"))\n",
    "num2 = int(input(\"Enter the second number: \"))\n",
    "\n",
    "# Calculate the GCD\n",
    "result = gcd(num1, num2)\n",
    "\n",
    "# Print the GCD\n",
    "print(\"The Greatest Common Divisor (GCD) of\", num1, \"and\", num2, \"is:\", result)\n"
   ]
  },
  {
   "cell_type": "code",
   "execution_count": 44,
   "id": "27013570-f3ba-4c18-b106-32b7da4cb5fd",
   "metadata": {},
   "outputs": [],
   "source": [
    "#advanced level"
   ]
  },
  {
   "cell_type": "markdown",
   "id": "79522f83-223d-473f-9d77-7d461cbc51bc",
   "metadata": {},
   "source": [
    "q.21"
   ]
  },
  {
   "cell_type": "code",
   "execution_count": 45,
   "id": "b6f1bc64-65cb-406e-a9cd-90bccd4358e0",
   "metadata": {},
   "outputs": [],
   "source": [
    "#You can create a Python program to calculate the sum of the digits of numbers in a list using a list comprehension like this:"
   ]
  },
  {
   "cell_type": "code",
   "execution_count": 46,
   "id": "7174e5c6-f891-4899-8352-716046f6304b",
   "metadata": {},
   "outputs": [
    {
     "name": "stdout",
     "output_type": "stream",
     "text": [
      "Sum of digits for each number: [6, 9, 21, 9, 1]\n"
     ]
    }
   ],
   "source": [
    "# Input list of numbers\n",
    "numbers = [123, 45, 678, 9, 10]\n",
    "\n",
    "# List comprehension to calculate the sum of digits for each number\n",
    "digit_sums = [sum(map(int, str(num))) for num in numbers]\n",
    "\n",
    "# Print the list of digit sums\n",
    "print(\"Sum of digits for each number:\", digit_sums)\n"
   ]
  },
  {
   "cell_type": "markdown",
   "id": "84d653ee-8fae-47df-a630-005a616ce9b6",
   "metadata": {},
   "source": [
    "q.22"
   ]
  },
  {
   "cell_type": "code",
   "execution_count": 47,
   "id": "9100aedb-249e-4cee-aaef-2a0d62871b04",
   "metadata": {},
   "outputs": [],
   "source": [
    "#You can create a Python program to find the prime factors of a given number using a for loop and list comprehension like this:"
   ]
  },
  {
   "cell_type": "code",
   "execution_count": 48,
   "id": "753b1cfd-db14-4f03-bdb0-d8d19e4c5602",
   "metadata": {},
   "outputs": [
    {
     "name": "stdin",
     "output_type": "stream",
     "text": [
      "Enter a number:  5\n"
     ]
    },
    {
     "name": "stdout",
     "output_type": "stream",
     "text": [
      "The prime factors of 5 are: [5]\n"
     ]
    }
   ],
   "source": [
    "# Function to find prime factors of a number\n",
    "def prime_factors(n):\n",
    "    factors = []\n",
    "    divisor = 2\n",
    "    while divisor <= n:\n",
    "        if n % divisor == 0:\n",
    "            factors.append(divisor)\n",
    "            n = n // divisor\n",
    "        else:\n",
    "            divisor += 1\n",
    "    return factors\n",
    "\n",
    "# Input number\n",
    "num = int(input(\"Enter a number: \"))\n",
    "\n",
    "# Calculate and print the prime factors using list comprehension\n",
    "factors = prime_factors(num)\n",
    "\n",
    "print(f\"The prime factors of {num} are: {factors}\")\n"
   ]
  },
  {
   "cell_type": "markdown",
   "id": "45b05ed7-72e5-46e7-9c9a-deb9aa402e54",
   "metadata": {},
   "source": [
    "q.23"
   ]
  },
  {
   "cell_type": "code",
   "execution_count": 49,
   "id": "32e24cf1-3642-4f7e-adc2-297c1900c398",
   "metadata": {},
   "outputs": [],
   "source": [
    "#You can create a Python program to extract unique elements from a list and store them in a new list using a list comprehension like this:"
   ]
  },
  {
   "cell_type": "code",
   "execution_count": 50,
   "id": "a47b3022-ed60-4c02-810c-2b217fcddcb9",
   "metadata": {},
   "outputs": [
    {
     "name": "stdout",
     "output_type": "stream",
     "text": [
      "Original List: [1, 2, 2, 3, 4, 4, 5, 5, 5]\n",
      "Unique Elements: [1, 3]\n"
     ]
    }
   ],
   "source": [
    "# Input list with duplicate elements\n",
    "original_list = [1, 2, 2, 3, 4, 4, 5, 5, 5]\n",
    "\n",
    "# List comprehension to extract unique elements\n",
    "unique_list = [x for x in original_list if original_list.count(x) == 1]\n",
    "\n",
    "# Print the unique elements\n",
    "print(\"Original List:\", original_list)\n",
    "print(\"Unique Elements:\", unique_list)\n"
   ]
  },
  {
   "cell_type": "markdown",
   "id": "4d0dfacd-7416-46db-9ef3-cf2f4c02b0c6",
   "metadata": {},
   "source": [
    "q.24"
   ]
  },
  {
   "cell_type": "code",
   "execution_count": 51,
   "id": "bd41b72a-1f6e-4c47-9c7d-7ac21ceb7ef0",
   "metadata": {},
   "outputs": [],
   "source": [
    "#You can create a Python program to generate a list of all palindromic numbers up to a specified limit using a list comprehension like this:"
   ]
  },
  {
   "cell_type": "code",
   "execution_count": 52,
   "id": "552a528b-4320-4931-a498-9f80d40052cb",
   "metadata": {},
   "outputs": [
    {
     "name": "stdin",
     "output_type": "stream",
     "text": [
      "Enter the limit:  5\n"
     ]
    },
    {
     "name": "stdout",
     "output_type": "stream",
     "text": [
      "Palindromic numbers up to 5 are: [1, 2, 3, 4, 5]\n"
     ]
    }
   ],
   "source": [
    "# Function to check if a number is a palindrome\n",
    "def is_palindrome(number):\n",
    "    return str(number) == str(number)[::-1]\n",
    "\n",
    "# Input limit\n",
    "limit = int(input(\"Enter the limit: \"))\n",
    "\n",
    "# List comprehension to generate palindromic numbers\n",
    "palindromic_numbers = [num for num in range(1, limit + 1) if is_palindrome(num)]\n",
    "\n",
    "# Print the list of palindromic numbers\n",
    "print(\"Palindromic numbers up to\", limit, \"are:\", palindromic_numbers)\n"
   ]
  },
  {
   "cell_type": "markdown",
   "id": "bb3de95b-a02f-4a12-928b-643a8598cc2b",
   "metadata": {},
   "source": [
    "q.25"
   ]
  },
  {
   "cell_type": "code",
   "execution_count": 53,
   "id": "d2d1e340-3984-424e-a685-c8d9bf016d87",
   "metadata": {},
   "outputs": [],
   "source": [
    "#You can create a Python program to flatten a nested list using list comprehension. Here's how you can do it:"
   ]
  },
  {
   "cell_type": "code",
   "execution_count": 54,
   "id": "34633f9c-2e43-4844-8634-47369feb6f6f",
   "metadata": {},
   "outputs": [
    {
     "name": "stdout",
     "output_type": "stream",
     "text": [
      "Original Nested List: [[1, 2, 3], [4, 5], [6, 7, 8]]\n",
      "Flattened List: [1, 2, 3, 4, 5, 6, 7, 8]\n"
     ]
    }
   ],
   "source": [
    "# Function to flatten a nested list using list comprehension\n",
    "def flatten_list(nested_list):\n",
    "    return [item for sublist in nested_list for item in sublist]\n",
    "\n",
    "# Input nested list\n",
    "nested_list = [[1, 2, 3], [4, 5], [6, 7, 8]]\n",
    "\n",
    "# Use the flatten_list function to flatten the nested list\n",
    "flattened_list = flatten_list(nested_list)\n",
    "\n",
    "# Print the flattened list\n",
    "print(\"Original Nested List:\", nested_list)\n",
    "print(\"Flattened List:\", flattened_list)\n"
   ]
  },
  {
   "cell_type": "markdown",
   "id": "fa1afdc0-25f9-4ffc-9a8e-edc90a4eb0d8",
   "metadata": {},
   "source": [
    "q.26"
   ]
  },
  {
   "cell_type": "code",
   "execution_count": 55,
   "id": "b56fb03a-5319-4ad0-8bd9-1a07e60121da",
   "metadata": {},
   "outputs": [],
   "source": [
    "#You can create a Python program to compute the sum of even and odd numbers in a list separately using list comprehension like this:"
   ]
  },
  {
   "cell_type": "code",
   "execution_count": 56,
   "id": "1c1ae54f-941e-41ec-825f-61b48f7826c4",
   "metadata": {},
   "outputs": [
    {
     "name": "stdout",
     "output_type": "stream",
     "text": [
      "Original List: [1, 2, 3, 4, 5, 6, 7, 8, 9, 10]\n",
      "Even Numbers: [2, 4, 6, 8, 10]\n",
      "Odd Numbers: [1, 3, 5, 7, 9]\n",
      "Sum of Even Numbers: 30\n",
      "Sum of Odd Numbers: 25\n"
     ]
    }
   ],
   "source": [
    "# Input list of numbers\n",
    "numbers = [1, 2, 3, 4, 5, 6, 7, 8, 9, 10]\n",
    "\n",
    "# Use list comprehension to separate even and odd numbers\n",
    "even_numbers = [num for num in numbers if num % 2 == 0]\n",
    "odd_numbers = [num for num in numbers if num % 2 != 0]\n",
    "\n",
    "# Calculate the sum of even and odd numbers using the built-in sum() function\n",
    "sum_even = sum(even_numbers)\n",
    "sum_odd = sum(odd_numbers)\n",
    "\n",
    "# Print the sums\n",
    "print(\"Original List:\", numbers)\n",
    "print(\"Even Numbers:\", even_numbers)\n",
    "print(\"Odd Numbers:\", odd_numbers)\n",
    "print(\"Sum of Even Numbers:\", sum_even)\n",
    "print(\"Sum of Odd Numbers:\", sum_odd)\n"
   ]
  },
  {
   "cell_type": "markdown",
   "id": "bd813e39-0069-427a-9d69-6a36071ff62a",
   "metadata": {},
   "source": [
    "q.27"
   ]
  },
  {
   "cell_type": "code",
   "execution_count": 57,
   "id": "7eef9437-4cab-4d9f-b81a-3329fd1dbb02",
   "metadata": {},
   "outputs": [],
   "source": [
    "#You can create a Python program to generate a list of squares of odd numbers between 1 and 10 using list comprehension like this:"
   ]
  },
  {
   "cell_type": "code",
   "execution_count": 58,
   "id": "455a2629-75bd-4004-9ab8-6448afac438a",
   "metadata": {},
   "outputs": [
    {
     "name": "stdout",
     "output_type": "stream",
     "text": [
      "Squares of Odd Numbers between 1 and 10: [1, 9, 25, 49, 81]\n"
     ]
    }
   ],
   "source": [
    "# Use list comprehension to generate a list of squares of odd numbers\n",
    "squares_of_odd_numbers = [x**2 for x in range(1, 11) if x % 2 != 0]\n",
    "\n",
    "# Print the list of squares of odd numbers\n",
    "print(\"Squares of Odd Numbers between 1 and 10:\", squares_of_odd_numbers)\n"
   ]
  },
  {
   "cell_type": "markdown",
   "id": "e69eb7cf-684e-4d76-8682-6978ed1e169c",
   "metadata": {},
   "source": [
    "q.28"
   ]
  },
  {
   "cell_type": "code",
   "execution_count": 59,
   "id": "ae75b3e1-d863-4dba-a2ae-390e22b4e973",
   "metadata": {},
   "outputs": [],
   "source": [
    "#You can create a Python program to combine two lists into a dictionary using list comprehension like this:"
   ]
  },
  {
   "cell_type": "code",
   "execution_count": 60,
   "id": "8582b7aa-405e-4808-bf2d-aa6973d5a8cb",
   "metadata": {},
   "outputs": [
    {
     "name": "stdout",
     "output_type": "stream",
     "text": [
      "Combined Dictionary: {'a': 1, 'b': 2, 'c': 3}\n"
     ]
    }
   ],
   "source": [
    "# Input lists\n",
    "keys = ['a', 'b', 'c']\n",
    "values = [1, 2, 3]\n",
    "\n",
    "# Use list comprehension to create a dictionary\n",
    "combined_dict = {keys[i]: values[i] for i in range(min(len(keys), len(values)))}\n",
    "\n",
    "# Print the combined dictionary\n",
    "print(\"Combined Dictionary:\", combined_dict)\n"
   ]
  },
  {
   "cell_type": "markdown",
   "id": "e32fbbdb-f52a-42bb-9426-c2bd111c665f",
   "metadata": {},
   "source": [
    "q.29"
   ]
  },
  {
   "cell_type": "code",
   "execution_count": 61,
   "id": "10393263-a18d-4749-92e1-397c4d329e61",
   "metadata": {},
   "outputs": [],
   "source": [
    "#You can create a Python program to extract the vowels from a string and store them in a list using list comprehension like this:"
   ]
  },
  {
   "cell_type": "code",
   "execution_count": 62,
   "id": "bbdce441-b7e0-4dcf-b161-213e823b8bff",
   "metadata": {},
   "outputs": [
    {
     "name": "stdin",
     "output_type": "stream",
     "text": [
      "Enter a string:  mohit\n"
     ]
    },
    {
     "name": "stdout",
     "output_type": "stream",
     "text": [
      "Vowels in the string: ['o', 'i']\n"
     ]
    }
   ],
   "source": [
    "# Input string\n",
    "input_string = input(\"Enter a string: \")\n",
    "\n",
    "# Use list comprehension to extract vowels\n",
    "vowels = [char for char in input_string if char.lower() in 'aeiou']\n",
    "\n",
    "# Print the list of vowels\n",
    "print(\"Vowels in the string:\", vowels)\n"
   ]
  },
  {
   "cell_type": "markdown",
   "id": "c4a27781-c227-4d3b-ae6a-383d51fb80b2",
   "metadata": {},
   "source": [
    "q.30"
   ]
  },
  {
   "cell_type": "code",
   "execution_count": 63,
   "id": "6ce9362f-5d7e-46ad-8e0f-14c04bffb9b7",
   "metadata": {},
   "outputs": [],
   "source": [
    "#You can create a Python program to remove all non-numeric characters from a list of strings using list comprehension like this:"
   ]
  },
  {
   "cell_type": "code",
   "execution_count": 64,
   "id": "75409f14-b849-49b1-b65b-0a3d49b13d64",
   "metadata": {},
   "outputs": [
    {
     "name": "stdout",
     "output_type": "stream",
     "text": [
      "Original List of Strings: ['abc123', '45def', 'gh6i7', '89jkl']\n",
      "Numeric Strings: ['123', '45', '67', '89']\n"
     ]
    }
   ],
   "source": [
    "# Input list of strings\n",
    "string_list = ['abc123', '45def', 'gh6i7', '89jkl']\n",
    "\n",
    "# Use list comprehension to remove non-numeric characters\n",
    "numeric_strings = [''.join(char for char in string if char.isnumeric()) for string in string_list]\n",
    "\n",
    "# Print the list of numeric strings\n",
    "print(\"Original List of Strings:\", string_list)\n",
    "print(\"Numeric Strings:\", numeric_strings)\n"
   ]
  },
  {
   "cell_type": "code",
   "execution_count": 65,
   "id": "1a8cd45c-6ad0-4e89-92d1-12749ad4b099",
   "metadata": {},
   "outputs": [],
   "source": [
    "#challenge level"
   ]
  },
  {
   "cell_type": "markdown",
   "id": "0dce9815-a5b9-4dab-a815-6bab6b27cd4d",
   "metadata": {},
   "source": [
    "q.31"
   ]
  },
  {
   "cell_type": "code",
   "execution_count": 66,
   "id": "e5fc93dc-cc03-41dc-b5e4-ab6d1b1915a7",
   "metadata": {},
   "outputs": [],
   "source": [
    "#You can create a Python program to generate a list of prime numbers using the Sieve of Eratosthenes algorithm and list comprehension like this:"
   ]
  },
  {
   "cell_type": "code",
   "execution_count": 67,
   "id": "18e39771-fa9e-4c38-9fdb-37c143507a77",
   "metadata": {},
   "outputs": [
    {
     "name": "stdin",
     "output_type": "stream",
     "text": [
      "Enter the limit to find prime numbers up to:  10\n"
     ]
    },
    {
     "name": "stdout",
     "output_type": "stream",
     "text": [
      "Prime numbers up to 10 are: [2, 3, 5, 7]\n"
     ]
    }
   ],
   "source": [
    "# Input limit\n",
    "limit = int(input(\"Enter the limit to find prime numbers up to: \"))\n",
    "\n",
    "# Create a list of boolean values to represent prime numbers\n",
    "is_prime = [True] * (limit + 1)\n",
    "is_prime[0] = is_prime[1] = False\n",
    "\n",
    "# Use the Sieve of Eratosthenes algorithm to mark non-prime numbers\n",
    "for num in range(2, int(limit**0.5) + 1):\n",
    "    if is_prime[num]:\n",
    "        for multiple in range(num**2, limit + 1, num):\n",
    "            is_prime[multiple] = False\n",
    "\n",
    "# Generate a list of prime numbers using list comprehension\n",
    "prime_numbers = [num for num, prime in enumerate(is_prime) if prime]\n",
    "\n",
    "# Print the list of prime numbers\n",
    "print(\"Prime numbers up to\", limit, \"are:\", prime_numbers)\n"
   ]
  },
  {
   "cell_type": "markdown",
   "id": "b4ec9040-7e81-4175-b3ca-ad174ac3b527",
   "metadata": {},
   "source": [
    "q.32"
   ]
  },
  {
   "cell_type": "code",
   "execution_count": 68,
   "id": "40e774e8-91c4-4d10-b34f-7da41187eda5",
   "metadata": {},
   "outputs": [],
   "source": [
    "#Generating a list of Pythagorean triplets up to a specified limit using list comprehension is not straightforward because Pythagorean triplets are not dense like prime numbers. However, you can create a program that finds Pythagorean triplets within a specified limit using nested list comprehensions. Here's one way to do it:"
   ]
  },
  {
   "cell_type": "code",
   "execution_count": 69,
   "id": "907b9a2d-e900-4159-bc67-acb88b71b4dd",
   "metadata": {},
   "outputs": [
    {
     "name": "stdin",
     "output_type": "stream",
     "text": [
      "Enter the limit to find Pythagorean triplets up to:  20\n"
     ]
    },
    {
     "name": "stdout",
     "output_type": "stream",
     "text": [
      "Pythagorean triplets up to 20 are: [(3, 4, 5), (5, 12, 13), (6, 8, 10), (8, 15, 17), (9, 12, 15), (12, 16, 20)]\n"
     ]
    }
   ],
   "source": [
    "# Input limit\n",
    "limit = int(input(\"Enter the limit to find Pythagorean triplets up to: \"))\n",
    "\n",
    "# Generate a list of Pythagorean triplets using list comprehension\n",
    "pythagorean_triplets = [(a, b, c) for a in range(1, limit + 1)\n",
    "                         for b in range(a, limit + 1)\n",
    "                         for c in range(b, limit + 1)\n",
    "                         if a**2 + b**2 == c**2]\n",
    "\n",
    "# Print the list of Pythagorean triplets\n",
    "print(\"Pythagorean triplets up to\", limit, \"are:\", pythagorean_triplets)\n"
   ]
  },
  {
   "cell_type": "markdown",
   "id": "ec6b6607-72be-49a0-a373-ff220fd4b7d1",
   "metadata": {},
   "source": [
    "q.33"
   ]
  },
  {
   "cell_type": "code",
   "execution_count": 70,
   "id": "38494b22-aa87-46b9-a128-7dc9a83bf7ac",
   "metadata": {},
   "outputs": [],
   "source": [
    "#You can create a Python program to generate a list of all possible combinations of two lists using list comprehension and the itertools.product function. Here's how you can do it:"
   ]
  },
  {
   "cell_type": "code",
   "execution_count": 71,
   "id": "c75ae6cc-90a1-48fc-8411-b472096e2847",
   "metadata": {},
   "outputs": [
    {
     "name": "stdout",
     "output_type": "stream",
     "text": [
      "Combinations of two lists:\n",
      "(1, 'A')\n",
      "(1, 'B')\n",
      "(1, 'C')\n",
      "(2, 'A')\n",
      "(2, 'B')\n",
      "(2, 'C')\n",
      "(3, 'A')\n",
      "(3, 'B')\n",
      "(3, 'C')\n"
     ]
    }
   ],
   "source": [
    "from itertools import product\n",
    "\n",
    "# Input lists\n",
    "list1 = [1, 2, 3]\n",
    "list2 = ['A', 'B', 'C']\n",
    "\n",
    "# Use itertools.product and list comprehension to generate combinations\n",
    "combinations = [(x, y) for x, y in product(list1, list2)]\n",
    "\n",
    "# Print the list of combinations\n",
    "print(\"Combinations of two lists:\")\n",
    "for combination in combinations:\n",
    "    print(combination)\n"
   ]
  },
  {
   "cell_type": "markdown",
   "id": "d1d1164f-3350-4b65-89e1-0dfa16a7f223",
   "metadata": {},
   "source": [
    "q.34"
   ]
  },
  {
   "cell_type": "code",
   "execution_count": 72,
   "id": "3a15b760-2471-4a91-9f44-e41ef204bfae",
   "metadata": {},
   "outputs": [],
   "source": [
    "#You can create a Python program to calculate the mean, median, and mode of a list of numbers using list comprehension and built-in functions. Here's how you can do it:"
   ]
  },
  {
   "cell_type": "code",
   "execution_count": 73,
   "id": "b6b43791-53f7-45e9-9eac-0e8ffea63215",
   "metadata": {},
   "outputs": [
    {
     "name": "stdout",
     "output_type": "stream",
     "text": [
      "List of Numbers: [5, 2, 6, 4, 7, 2, 6, 3, 8, 1]\n",
      "Mean: 4.4\n",
      "Median: 4.5\n",
      "Mode: 2\n"
     ]
    }
   ],
   "source": [
    "from statistics import mean, median, mode\n",
    "\n",
    "# Input list of numbers\n",
    "numbers = [5, 2, 6, 4, 7, 2, 6, 3, 8, 1]\n",
    "\n",
    "# Calculate mean using list comprehension and the built-in mean() function\n",
    "mean_result = mean(numbers)\n",
    "\n",
    "# Calculate median using list comprehension and the built-in median() function\n",
    "median_result = median(numbers)\n",
    "\n",
    "# Calculate mode using list comprehension and the built-in mode() function\n",
    "mode_result = mode(numbers)\n",
    "\n",
    "# Print the results\n",
    "print(\"List of Numbers:\", numbers)\n",
    "print(\"Mean:\", mean_result)\n",
    "print(\"Median:\", median_result)\n",
    "print(\"Mode:\", mode_result)\n"
   ]
  },
  {
   "cell_type": "markdown",
   "id": "2aac7fd1-54f1-4bd9-b39f-7d7746f82ea4",
   "metadata": {},
   "source": [
    "q.35"
   ]
  },
  {
   "cell_type": "code",
   "execution_count": 74,
   "id": "52d525ea-9209-4a26-a321-9d33f09ebf4e",
   "metadata": {},
   "outputs": [],
   "source": [
    "#You can create a Python program to generate Pascal's triangle up to a specified number of rows using list comprehension. Pascal's triangle is a triangular array of binomial coefficients. Here's how you can do it:"
   ]
  },
  {
   "cell_type": "code",
   "execution_count": 75,
   "id": "23047b7a-e500-41cc-b694-7bba163e41b3",
   "metadata": {},
   "outputs": [
    {
     "name": "stdin",
     "output_type": "stream",
     "text": [
      "Enter the number of rows for Pascal's triangle:  2\n"
     ]
    },
    {
     "name": "stdout",
     "output_type": "stream",
     "text": [
      "Pascal's Triangle up to 2 rows:\n",
      "1\n",
      "1 1\n"
     ]
    }
   ],
   "source": [
    "# Function to generate Pascal's triangle up to n rows\n",
    "def generate_pascals_triangle(n):\n",
    "    if n <= 0:\n",
    "        return []\n",
    "\n",
    "    triangle = [[1]]\n",
    "\n",
    "    for i in range(1, n):\n",
    "        previous_row = triangle[-1]\n",
    "        new_row = [1]\n",
    "\n",
    "        for j in range(1, i):\n",
    "            new_element = previous_row[j - 1] + previous_row[j]\n",
    "            new_row.append(new_element)\n",
    "\n",
    "        new_row.append(1)\n",
    "        triangle.append(new_row)\n",
    "\n",
    "    return triangle\n",
    "\n",
    "# Input number of rows\n",
    "num_rows = int(input(\"Enter the number of rows for Pascal's triangle: \"))\n",
    "\n",
    "# Generate Pascal's triangle using the function\n",
    "pascals_triangle = generate_pascals_triangle(num_rows)\n",
    "\n",
    "# Print Pascal's triangle\n",
    "print(\"Pascal's Triangle up to\", num_rows, \"rows:\")\n",
    "for row in pascals_triangle:\n",
    "    print(\" \".join(map(str, row)))\n"
   ]
  },
  {
   "cell_type": "markdown",
   "id": "06400cd2-3f0a-4488-b47e-911452ab7ed5",
   "metadata": {},
   "source": [
    "q.36"
   ]
  },
  {
   "cell_type": "code",
   "execution_count": 76,
   "id": "f9da585f-0272-4fbe-9fb6-27600899f786",
   "metadata": {},
   "outputs": [],
   "source": [
    "#You can create a Python program to calculate the sum of the digits of the factorial of numbers from 1 to 5 using list comprehension. Here's how you can do it:"
   ]
  },
  {
   "cell_type": "code",
   "execution_count": 77,
   "id": "8cd3b352-4ab3-488a-9c7f-da6e3be5ed37",
   "metadata": {},
   "outputs": [
    {
     "name": "stdout",
     "output_type": "stream",
     "text": [
      "Factorial Sums for Numbers 1 to 5:\n",
      "Number 1: 1\n",
      "Number 2: 2\n",
      "Number 3: 6\n",
      "Number 4: 6\n",
      "Number 5: 3\n"
     ]
    }
   ],
   "source": [
    "# Function to calculate the factorial of a number\n",
    "def factorial(n):\n",
    "    if n == 0:\n",
    "        return 1\n",
    "    else:\n",
    "        return n * factorial(n - 1)\n",
    "\n",
    "# Calculate the sum of digits of factorial for numbers from 1 to 5 using list comprehension\n",
    "factorial_sums = [sum(int(digit) for digit in str(factorial(n))) for n in range(1, 6)]\n",
    "\n",
    "# Print the results\n",
    "print(\"Factorial Sums for Numbers 1 to 5:\")\n",
    "for n, factorial_sum in enumerate(factorial_sums, start=1):\n",
    "    print(f\"Number {n}: {factorial_sum}\")\n"
   ]
  },
  {
   "cell_type": "markdown",
   "id": "e0774b5b-478c-4aa9-af3e-9cb7aa4560ff",
   "metadata": {},
   "source": [
    "q.37"
   ]
  },
  {
   "cell_type": "code",
   "execution_count": 78,
   "id": "0cc73f37-32fb-4cf6-8867-b9fe6c62ee31",
   "metadata": {},
   "outputs": [],
   "source": [
    "#You can create a Python program to find the longest word in a sentence using list comprehension like this:"
   ]
  },
  {
   "cell_type": "code",
   "execution_count": 79,
   "id": "ef8f2d21-03db-44d1-93fc-73969b54d9ec",
   "metadata": {},
   "outputs": [
    {
     "name": "stdin",
     "output_type": "stream",
     "text": [
      "Enter a sentence:  mohit is good boy\n"
     ]
    },
    {
     "name": "stdout",
     "output_type": "stream",
     "text": [
      "Longest word in the sentence: mohit\n"
     ]
    }
   ],
   "source": [
    "# Input sentence\n",
    "sentence = input(\"Enter a sentence: \")\n",
    "\n",
    "# Use list comprehension to split the sentence into words\n",
    "words = sentence.split()\n",
    "\n",
    "# Find the longest word using list comprehension\n",
    "longest_word = max(words, key=lambda word: len(word))\n",
    "\n",
    "# Print the longest word\n",
    "print(\"Longest word in the sentence:\", longest_word)\n"
   ]
  },
  {
   "cell_type": "markdown",
   "id": "40ce651e-a9ef-4c71-ab8f-a33c6e2ddd91",
   "metadata": {},
   "source": [
    "q.38"
   ]
  },
  {
   "cell_type": "code",
   "execution_count": 80,
   "id": "21b6436f-2ea0-4bcb-ae94-aaba90c38348",
   "metadata": {},
   "outputs": [],
   "source": [
    "#You can create a Python program to filter a list of strings to include only those with more than three vowels using list comprehension like this:"
   ]
  },
  {
   "cell_type": "code",
   "execution_count": 81,
   "id": "15a64ae9-625f-4f54-a41f-63172a5c6130",
   "metadata": {},
   "outputs": [
    {
     "name": "stdout",
     "output_type": "stream",
     "text": [
      "Original List of Strings: ['apple', 'banana', 'cherry', 'grape', 'kiwi', 'orange']\n",
      "Strings with More Than Three Vowels: []\n"
     ]
    }
   ],
   "source": [
    "# Function to count vowels in a string\n",
    "def count_vowels(string):\n",
    "    vowels = \"AEIOUaeiou\"\n",
    "    return sum(1 for char in string if char in vowels)\n",
    "\n",
    "# Input list of strings\n",
    "string_list = [\"apple\", \"banana\", \"cherry\", \"grape\", \"kiwi\", \"orange\"]\n",
    "\n",
    "# Use list comprehension to filter strings with more than three vowels\n",
    "filtered_strings = [string for string in string_list if count_vowels(string) > 3]\n",
    "\n",
    "# Print the filtered strings\n",
    "print(\"Original List of Strings:\", string_list)\n",
    "print(\"Strings with More Than Three Vowels:\", filtered_strings)\n"
   ]
  },
  {
   "cell_type": "markdown",
   "id": "a98f47a9-bb1d-4761-8c8d-ff3c28f86741",
   "metadata": {},
   "source": [
    "q.39"
   ]
  },
  {
   "cell_type": "code",
   "execution_count": 82,
   "id": "ef7b12c3-0768-402a-853a-dc2c0322289b",
   "metadata": {},
   "outputs": [],
   "source": [
    "#You can create a Python program to calculate the sum of the digits of numbers from 1 to 1000 using list comprehension like this:"
   ]
  },
  {
   "cell_type": "code",
   "execution_count": 83,
   "id": "f6df0526-021c-474e-a404-6d861256ae6a",
   "metadata": {},
   "outputs": [
    {
     "name": "stdout",
     "output_type": "stream",
     "text": [
      "Total Sum of Digits for Numbers from 1 to 1000: 13501\n"
     ]
    }
   ],
   "source": [
    "# Function to calculate the sum of digits of a number\n",
    "def sum_of_digits(number):\n",
    "    return sum(int(digit) for digit in str(number))\n",
    "\n",
    "# Calculate the sum of digits for numbers from 1 to 1000 using list comprehension\n",
    "digit_sums = [sum_of_digits(n) for n in range(1, 1001)]\n",
    "\n",
    "# Calculate the total sum of digit sums\n",
    "total_sum = sum(digit_sums)\n",
    "\n",
    "# Print the total sum\n",
    "print(\"Total Sum of Digits for Numbers from 1 to 1000:\", total_sum)\n"
   ]
  },
  {
   "cell_type": "markdown",
   "id": "6c93978e-a270-47fb-9bd4-a7c443c41838",
   "metadata": {},
   "source": [
    "q.40"
   ]
  },
  {
   "cell_type": "code",
   "execution_count": 84,
   "id": "f142b0c3-79a5-4155-96ed-03d2406984a0",
   "metadata": {},
   "outputs": [],
   "source": [
    "#You can create a Python program to generate a list of prime palindromic numbers using list comprehension like this:"
   ]
  },
  {
   "cell_type": "code",
   "execution_count": 85,
   "id": "b64be5ff-2efe-4d81-bca1-848ec5fff087",
   "metadata": {},
   "outputs": [
    {
     "name": "stdout",
     "output_type": "stream",
     "text": [
      "Prime Palindromic Numbers from 1 to 1000: [2, 3, 5, 7, 11, 101, 131, 151, 181, 191, 313, 353, 373, 383, 727, 757, 787, 797, 919, 929]\n"
     ]
    }
   ],
   "source": [
    "# Function to check if a number is prime\n",
    "def is_prime(n):\n",
    "    if n <= 1:\n",
    "        return False\n",
    "    if n == 2:\n",
    "        return True\n",
    "    if n % 2 == 0:\n",
    "        return False\n",
    "    for i in range(3, int(n**0.5) + 1, 2):\n",
    "        if n % i == 0:\n",
    "            return False\n",
    "    return True\n",
    "\n",
    "# Function to check if a number is palindromic\n",
    "def is_palindromic(n):\n",
    "    return str(n) == str(n)[::-1]\n",
    "\n",
    "# Generate a list of prime palindromic numbers using list comprehension\n",
    "prime_palindromic_numbers = [num for num in range(1, 1001) if is_prime(num) and is_palindromic(num)]\n",
    "\n",
    "# Print the list of prime palindromic numbers\n",
    "print(\"Prime Palindromic Numbers from 1 to 1000:\", prime_palindromic_numbers)\n"
   ]
  },
  {
   "cell_type": "code",
   "execution_count": null,
   "id": "3b4ddfe8-f655-4dac-abf9-8aec575871bc",
   "metadata": {},
   "outputs": [],
   "source": []
  }
 ],
 "metadata": {
  "kernelspec": {
   "display_name": "Python 3 (ipykernel)",
   "language": "python",
   "name": "python3"
  },
  "language_info": {
   "codemirror_mode": {
    "name": "ipython",
    "version": 3
   },
   "file_extension": ".py",
   "mimetype": "text/x-python",
   "name": "python",
   "nbconvert_exporter": "python",
   "pygments_lexer": "ipython3",
   "version": "3.10.8"
  }
 },
 "nbformat": 4,
 "nbformat_minor": 5
}
